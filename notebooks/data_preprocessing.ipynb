{
 "cells": [
  {
   "cell_type": "code",
   "execution_count": null,
   "metadata": {
    "vscode": {
     "languageId": "plaintext"
    }
   },
   "outputs": [],
   "source": [
    "from src.preprocessing import load_and_clean_jobs, clean_text\n",
    "\n",
    "postings_path = 'data/processed/job_postings.csv'\n",
    "skills_path = 'data/processed/job_skills.csv'\n",
    "summary_path = 'data/processed/job_summary.csv'\n",
    "df = load_and_clean_jobs(postings_path, skills_path, summary_path, sample_size=100000)\n",
    "df.to_csv('data/processed/cleaned_jobs_sample.csv', index=False)\n",
    "print(df.head())"
   ]
  },
  {
   "cell_type": "markdown",
   "metadata": {},
   "source": []
  }
 ],
 "metadata": {
  "language_info": {
   "name": "python"
  }
 },
 "nbformat": 4,
 "nbformat_minor": 2
}
