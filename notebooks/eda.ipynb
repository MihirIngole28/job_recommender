{
 "cells": [
  {
   "cell_type": "code",
   "execution_count": null,
   "metadata": {
    "vscode": {
     "languageId": "plaintext"
    }
   },
   "outputs": [],
   "source": [
    "import ast\n",
    "import matplotlib.pyplot as plt\n",
    "import seaborn as sns\n",
    "from collections import Counter\n",
    "from wordcloud import WordCloud"
   ]
  },
  {
   "cell_type": "code",
   "execution_count": null,
   "metadata": {
    "vscode": {
     "languageId": "plaintext"
    }
   },
   "outputs": [],
   "source": [
    "df = pd.read_csv('data/processed/cleaned_jobs_sample.csv')\n",
    "df['cleaned_skills'] = df['cleaned_skills'].apply(ast.literal_eval)"
   ]
  },
  {
   "cell_type": "code",
   "execution_count": null,
   "metadata": {
    "vscode": {
     "languageId": "plaintext"
    }
   },
   "outputs": [],
   "source": [
    "tech_keywords = ['machine learning', 'ml', 'deep learning', 'dl', 'data scientist', 'nlp', 'pytorch', 'bert', 'hugging face', 'transformers', 'scikit-learn', 'faiss']\n",
    "df_tech = df[df['job_title'].str.lower().str.contains('|'.join(tech_keywords)) | \n",
    "             df['cleaned_summary'].str.lower().str.contains('|'.join(tech_keywords)) | \n",
    "             df['cleaned_skills'].apply(lambda skills: any(kw in ' '.join(skills) for kw in tech_keywords))]\n",
    "print(f\"Filtered to {len(df_tech)} tech jobs\")\n",
    "df_tech.to_csv('data/processed/cleaned_jobs_tech.csv', index=False)"
   ]
  },
  {
   "cell_type": "code",
   "execution_count": null,
   "metadata": {
    "vscode": {
     "languageId": "plaintext"
    }
   },
   "outputs": [],
   "source": [
    "print(df_tech.info())\n",
    "sns.countplot(y='job_level', data=df_tech)\n",
    "plt.title('Job Levels')\n",
    "plt.show()\n",
    "\n",
    "all_skills = [skill for sublist in df_tech['cleaned_skills'] for skill in sublist]\n",
    "top_skills = Counter(all_skills).most_common(10)\n",
    "skills_df = pd.DataFrame(top_skills, columns=['Skill', 'Count'])\n",
    "sns.barplot(x='Count', y='Skill', data=skills_df)\n",
    "plt.title('Top Skills')\n",
    "plt.show()\n",
    "\n",
    "wordcloud = WordCloud().generate(' '.join(df_tech['job_location'].dropna()))\n",
    "plt.imshow(wordcloud)\n",
    "plt.title('Locations')\n",
    "plt.show()"
   ]
  },
  {
   "cell_type": "code",
   "execution_count": null,
   "metadata": {
    "vscode": {
     "languageId": "plaintext"
    }
   },
   "outputs": [],
   "source": [
    "roles = ['Machine Learning Engineer', 'Data Scientist', 'AI Researcher']\n",
    "levels = ['Associate', 'Mid senior']\n",
    "skills = ['pytorch nlp bert embeddings', 'hugging face transformers scikit-learn faiss', 'ethical ai bias mitigation fairlearn']\n",
    "locs = ['San Francisco CA', 'New York NY', 'Remote']\n",
    "prompts = [f\"{random.choice(roles)} job: {random.choice(levels)} level requiring {random.choice(skills)} for AI projects in {random.choice(locs)}.\" for _ in range(5000)]\n",
    "synthetic_summaries = [generate_synthetic_summary(p) for p in prompts]\n",
    "\n",
    "df_aug = pd.DataFrame({\n",
    "    'job_link': ['synthetic_' + str(i) for i in range(5000)],\n",
    "    'job_title': [p.split(':')[0] for p in prompts],\n",
    "    'company': ['Synthetic Tech Co']*5000,\n",
    "    'job_location': [p.split(' in ')[-1].rstrip('.') for p in prompts],\n",
    "    'job_level': [p.split(' level ')[0].split(' ')[-1] for p in prompts],\n",
    "    'job_type': ['Full-time']*5000,\n",
    "    'cleaned_summary': synthetic_summaries,\n",
    "    'cleaned_skills': [skills[0].split() for _ in range(5000)]  # List format\n",
    "})\n",
    "df_tech_aug = pd.concat([df_tech, df_aug], ignore_index=True)\n",
    "df_tech_aug.to_csv('data/processed/cleaned_jobs_tech_aug.csv', index=False)"
   ]
  },
  {
   "cell_type": "code",
   "execution_count": null,
   "metadata": {
    "vscode": {
     "languageId": "plaintext"
    }
   },
   "outputs": [],
   "source": [
    "# EDA on df_tech_aug\n",
    "print(df_tech_aug.info())\n",
    "sns.countplot(y='job_level', data=df_tech_aug)\n",
    "plt.title('Job Levels (Aug)')\n",
    "plt.show()\n",
    "\n",
    "all_skills = [skill for sublist in df_tech_aug['cleaned_skills'] for skill in sublist]\n",
    "top_skills = Counter(all_skills).most_common(10)\n",
    "skills_df = pd.DataFrame(top_skills, columns=['Skill', 'Count'])\n",
    "sns.barplot(x='Count', y='Skill', data=skills_df)\n",
    "plt.title('Top Skills (Aug)')\n",
    "plt.show()\n",
    "\n",
    "wordcloud = WordCloud().generate(' '.join(df_tech_aug['job_location'].dropna()))\n",
    "plt.imshow(wordcloud)\n",
    "plt.title('Locations (Aug)')\n",
    "plt.show()"
   ]
  }
 ],
 "metadata": {
  "language_info": {
   "name": "python"
  }
 },
 "nbformat": 4,
 "nbformat_minor": 2
}
