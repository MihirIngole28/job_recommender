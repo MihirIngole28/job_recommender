{
 "cells": [
  {
   "cell_type": "code",
   "execution_count": null,
   "metadata": {
    "vscode": {
     "languageId": "plaintext"
    }
   },
   "outputs": [],
   "source": [
    "!pip install faiss-cpu  # Use faiss-gpu if you need GPU acceleration"
   ]
  },
  {
   "cell_type": "code",
   "execution_count": null,
   "metadata": {
    "vscode": {
     "languageId": "plaintext"
    }
   },
   "outputs": [],
   "source": [
    "#File management for saving re-runs\n",
    "import os\n",
    "os.makedirs('data/processed', exist_ok=True)\n",
    "\n",
    "!cp /content/drive/MyDrive/ColabNotebooks/JobRecommenderProject/job_embeddings.npy data/processed/\n",
    "!cp /content/drive/MyDrive/ColabNotebooks/JobRecommenderProject/faiss_index.index  data/processed/"
   ]
  },
  {
   "cell_type": "code",
   "execution_count": null,
   "metadata": {
    "vscode": {
     "languageId": "plaintext"
    }
   },
   "outputs": [],
   "source": [
    "import numpy as np\n",
    "import faiss\n",
    "\n",
    "# Load saved embeddings and index\n",
    "job_embeddings = np.load('data/processed/job_embeddings.npy')\n",
    "index = faiss.read_index('data/processed/faiss_index.index')\n",
    "\n",
    "# Verify loaded data (optional)\n",
    "print(f\"Loaded embeddings shape: {job_embeddings.shape}\")\n",
    "print(f\"FAISS index size: {index.ntotal}\")"
   ]
  },
  {
   "cell_type": "code",
   "execution_count": null,
   "metadata": {
    "vscode": {
     "languageId": "plaintext"
    }
   },
   "outputs": [],
   "source": [
    "#pip install --upgrade transformers sentence-transformers"
   ]
  },
  {
   "cell_type": "code",
   "execution_count": null,
   "metadata": {
    "vscode": {
     "languageId": "plaintext"
    }
   },
   "outputs": [],
   "source": [
    "#Avoid Re-run\n",
    "\n",
    "from sentence_transformers import losses, SentenceTransformer\n",
    "from sentence_transformers.trainer import SentenceTransformerTrainer\n",
    "from sentence_transformers.training_args import SentenceTransformerTrainingArguments\n",
    "from datasets import Dataset\n",
    "\n",
    "# Load df (adjust path)\n",
    "df = pd.read_csv('data/processed/cleaned_jobs_tech_aug.csv')  # Use your augmented tech DF\n",
    "\n",
    "# Create positive pairs: summary + (title + skills as positive)\n",
    "titles_skills = df['job_title'] + ' ' + df['cleaned_skills'].apply(lambda x: ' '.join(eval(x) if isinstance(x, str) else x))\n",
    "train_data = {\n",
    "    'sentence1': df['cleaned_summary'].tolist(),\n",
    "    'sentence2': titles_skills.tolist()\n",
    "}\n",
    "train_dataset = Dataset.from_dict(train_data)\n",
    "\n",
    "model = SentenceTransformer('all-MiniLM-L6-v2')\n",
    "train_loss = losses.MultipleNegativesRankingLoss(model)\n",
    "args = SentenceTransformerTrainingArguments(output_dir='models/finetuned_model', num_train_epochs=1, report_to=\"none\")\n",
    "trainer = SentenceTransformerTrainer(model=model, train_dataset=train_dataset, loss=train_loss, args=args)\n",
    "trainer.train()\n",
    "model.save('models/finetuned_model')"
   ]
  },
  {
   "cell_type": "code",
   "execution_count": null,
   "metadata": {
    "vscode": {
     "languageId": "plaintext"
    }
   },
   "outputs": [],
   "source": [
    "#File management for saving re-runs\n",
    "\n",
    "!cp -r /content/drive/MyDrive/ColabNotebooks/JobRecommenderProject/finetuned_model models/"
   ]
  },
  {
   "cell_type": "code",
   "execution_count": null,
   "metadata": {
    "vscode": {
     "languageId": "plaintext"
    }
   },
   "outputs": [],
   "source": [
    "def recommend_jobs(resume_text, job_texts, job_df, top_k=10):\n",
    "    resume_embedding = generate_embeddings([resume_text])\n",
    "    index = faiss.read_index('data/processed/faiss_index.index')\n",
    "    distances, indices = index.search(resume_embedding, top_k)\n",
    "    recs = job_df.iloc[indices[0]].copy()\n",
    "    recs['similarity_score'] = 1 - distances[0] / 2  # Normalize to [0,1] cosine\n",
    "    return recs[['job_title', 'company', 'job_location', 'similarity_score']]\n",
    "\n",
    "# Example\n",
    "if __name__ == \"__main__\":\n",
    "    # Load parsed resume example\n",
    "    resume_text = \"master computer science ml dl pytorch nlp bert\"  # From parsed_resumes\n",
    "    recs = recommend_jobs(resume_text, job_texts, df)\n",
    "    print(recs)"
   ]
  },
  {
   "cell_type": "code",
   "execution_count": null,
   "metadata": {
    "vscode": {
     "languageId": "plaintext"
    }
   },
   "outputs": [],
   "source": [
    "from sklearn.metrics import precision_score, ndcg_score\n",
    "from sklearn.model_selection import train_test_split\n",
    "import numpy as np\n",
    "\n",
    "# Load data (from Step 2/3)\n",
    "df = pd.read_csv('/content/drive/MyDrive/cleaned_jobs_tech_aug.csv')\n",
    "job_embeddings = np.load('data/processed/job_embeddings.npy')  # Adjust path\n",
    "index = faiss.read_index('data/processed/faiss_index.index')\n",
    "\n",
    "# Split: Use resumes as queries; jobs as items (80/20 for train/test jobs)\n",
    "train_df, test_df = train_test_split(df, test_size=0.2, random_state=42)\n",
    "train_embeddings = job_embeddings[train_df.index]  # Subset embeddings\n",
    "test_embeddings = job_embeddings[test_df.index]\n",
    "\n",
    "# Rebuild FAISS for train (or use full for simplicity; rebuild for strict split)\n",
    "train_index = build_faiss_index(train_embeddings)  # From embedding_model.py\n",
    "\n",
    "# Replace [...] with actual list (example; use your parsed texts)\n",
    "parsed_resumes = [\n",
    "    \"your resume text 1 here from parse_resume\",\n",
    "    \"resume text 2\",\n",
    "    \"resume text 3\",\n",
    "    \"resume text 4\",\n",
    "    \"resume text 5\"\n",
    "]  # Or list(parsed_resumes.values()) if dict\n",
    "\n",
    "y_true_all = []\n",
    "y_pred_all = []\n",
    "\n",
    "for resume_text in parsed_resumes:\n",
    "    resume_embedding = generate_embeddings([resume_text])\n",
    "    distances, indices = train_index.search(resume_embedding, k=10)\n",
    "    rec_scores = 1 - distances[0] / 2\n",
    "    \n",
    "    y_true = np.array([1 if score > 0.7 else 0 for score in rec_scores])\n",
    "    y_true_all.extend(y_true)\n",
    "    \n",
    "    y_pred = np.ones_like(y_true)\n",
    "    y_pred_all.extend(rec_scores)\n",
    "\n",
    "y_true_all = np.array(y_true_all)\n",
    "y_pred_all = np.array(y_pred_all)\n",
    "\n",
    "precision = precision_score(y_true_all, y_pred_all > 0.7, average='micro')\n",
    "print(f\"Precision@10: {precision}\")\n",
    "\n",
    "ndcg = ndcg_score([y_true_all], [y_pred_all], k=10)\n",
    "print(f\"NDCG@10: {ndcg}\")"
   ]
  }
 ],
 "metadata": {
  "language_info": {
   "name": "python"
  }
 },
 "nbformat": 4,
 "nbformat_minor": 2
}
